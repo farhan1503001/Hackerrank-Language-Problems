{
 "cells": [
  {
   "cell_type": "markdown",
   "metadata": {},
   "source": [
    "Recursive function is a function which calls itself. It is a way of solving programming problem. Each problem which is solved using recursion can also be done using loops. \n",
    "Recursion uses a computer's stack which is quite similar to a scenario like you place one plate after another one. Now when you remove plate you(usually) remove the plate at the top then plate under it and so on. \n",
    "For concept you can start with: https://www.youtube.com/watch?v=KEEKn7M"
   ]
  },
  {
   "cell_type": "markdown",
   "metadata": {},
   "source": [
    "Here we will solve factorial using recursion and not using recursion.\n",
    "First without recursion.\n",
    "Remember factorial: n=n*(n-1)*(n-2)*...*3.2.1\n",
    "Must watch: https://www.youtube.com/watch?v=_OmRGjbyzno"
   ]
  },
  {
   "cell_type": "code",
   "execution_count": 12,
   "metadata": {},
   "outputs": [
    {
     "name": "stdout",
     "output_type": "stream",
     "text": [
      "0\n",
      "1\n",
      "2\n",
      "3\n",
      "4\n",
      "5\n",
      "6\n",
      "7\n",
      "8\n",
      "9\n"
     ]
    }
   ],
   "source": [
    "#printing numbers you know using loop and recurison\n",
    "def printer(number:int):\n",
    "    for i in range(number):\n",
    "        print(i)\n",
    "        \n",
    "if __name__=='__main__':\n",
    "    value=int(input(\"Enter the limit: \"))\n",
    "    printer(value)"
   ]
  },
  {
   "cell_type": "code",
   "execution_count": 13,
   "metadata": {},
   "outputs": [
    {
     "name": "stdout",
     "output_type": "stream",
     "text": [
      "0\n",
      "1\n",
      "2\n",
      "3\n",
      "4\n",
      "5\n",
      "6\n",
      "7\n",
      "8\n",
      "9\n",
      "10\n"
     ]
    }
   ],
   "source": [
    "#Doing the same thing using recursion\n",
    "def print_recursion(current,number):\n",
    "    print(current)\n",
    "    if current==number:\n",
    "        return\n",
    "    print_recursion(current+1,number)\n",
    "if __name__=='__main__':\n",
    "    value=int(input(\"Enter the limit: \"))\n",
    "    print_recursion(0,value)"
   ]
  },
  {
   "cell_type": "code",
   "execution_count": 1,
   "metadata": {},
   "outputs": [
    {
     "name": "stdout",
     "output_type": "stream",
     "text": [
      "Factorial is:  120\n"
     ]
    }
   ],
   "source": [
    "def factorial(number:int):\n",
    "    \n",
    "    #we will start with 1 then go to number multiplying\n",
    "    result=1#as factorial 0 is 1\n",
    "    for i in range(1,number):\n",
    "        result=result*i\n",
    "    print(\"Factorial is: \",result)\n",
    "    \n",
    "    return result\n",
    "\n",
    "if __name__=='__main__':\n",
    "    number=int(input(\"Enter the number you want to check \"))\n",
    "    res=factorial(number)"
   ]
  },
  {
   "cell_type": "code",
   "execution_count": 2,
   "metadata": {},
   "outputs": [
    {
     "name": "stdout",
     "output_type": "stream",
     "text": [
      "Factorial is : 120\n"
     ]
    }
   ],
   "source": [
    "#Now using recursive style\n",
    "def rec_factorial(number:int):\n",
    "    if number<=1:\n",
    "        return 1\n",
    "    #This last portion is the key\n",
    "    return number*rec_factorial(number-1)\n",
    "\n",
    "if __name__=='__main__':\n",
    "    number=int(input(\"Enter the number you want to check \"))\n",
    "    \n",
    "    res=rec_factorial(number)\n",
    "    print(\"Factorial is :\",res)"
   ]
  },
  {
   "cell_type": "markdown",
   "metadata": {},
   "source": [
    "Now we will find fibonacci number using with and without factorial\n",
    "fibonacci sequence is where one number is the summation of it's immediate previous two numbers\n",
    "Sequence: 1 1 2(1+1)-->3(1+2)--->5(2+3)--->8(3+5)"
   ]
  },
  {
   "cell_type": "code",
   "execution_count": 10,
   "metadata": {},
   "outputs": [
    {
     "name": "stdout",
     "output_type": "stream",
     "text": [
      "[0, 1, 1, 2, 3, 5, 8, 13, 21, 34, 55]\n"
     ]
    }
   ],
   "source": [
    "#without recursion\n",
    "def fibonacci(number:int):\n",
    "    first=0\n",
    "    second=1 \n",
    "    fib_list=[]\n",
    "    fib_list.append(first)\n",
    "    fib_list.append(second)\n",
    "    for i in range(number-1):\n",
    "        #Kind of like swapping\n",
    "        temp=second\n",
    "        second=first+second\n",
    "        first=temp\n",
    "        fib_list.append(second)\n",
    "    print(fib_list)\n",
    "    \n",
    "if __name__=='__main__':\n",
    "    number=int(input(\"Enter the length of fibonacci series \"))\n",
    "    \n",
    "    fibonacci(number)\n",
    "    "
   ]
  },
  {
   "cell_type": "code",
   "execution_count": 11,
   "metadata": {},
   "outputs": [
    {
     "name": "stdout",
     "output_type": "stream",
     "text": [
      "[0, 1, 1, 2, 3, 5, 8, 13, 21, 34]\n"
     ]
    }
   ],
   "source": [
    "#Now using recursion\n",
    "#mone rakho ekta number ei series e tar ager duita mane n-1 ar n-2 er jogfol\n",
    "def fibonacci_sequence(number:int)->int: \n",
    "    if number<=1:\n",
    "        #print(number)\n",
    "        return number\n",
    "    else:\n",
    "        #ei line ta logic mone rakhlei hobe\n",
    "        return fibonacci_sequence(number-1)+fibonacci_sequence(number-2)\n",
    "def fibolist(num):\n",
    "    lister=[]\n",
    "    for i in range(num):\n",
    "        res=fibonacci_sequence(i)\n",
    "        lister.append(res)\n",
    "    print(lister)\n",
    "        \n",
    "if __name__=='__main__':\n",
    "    number=int(input(\"Enter the length of fibonacci series \"))\n",
    "    \n",
    "    fibolist(number)"
   ]
  },
  {
   "cell_type": "markdown",
   "metadata": {},
   "source": [
    "I think it is enought for exam."
   ]
  }
 ],
 "metadata": {
  "interpreter": {
   "hash": "0941b3e73679b7cfe93895684f58925a66d13d7b93ca5579c1a67e0f4d06ec82"
  },
  "kernelspec": {
   "display_name": "Python 3.9.7 ('tf-gpu')",
   "language": "python",
   "name": "python3"
  },
  "language_info": {
   "codemirror_mode": {
    "name": "ipython",
    "version": 3
   },
   "file_extension": ".py",
   "mimetype": "text/x-python",
   "name": "python",
   "nbconvert_exporter": "python",
   "pygments_lexer": "ipython3",
   "version": "3.9.7"
  },
  "orig_nbformat": 4
 },
 "nbformat": 4,
 "nbformat_minor": 2
}
